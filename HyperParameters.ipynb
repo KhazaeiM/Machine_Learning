{
  "nbformat": 4,
  "nbformat_minor": 0,
  "metadata": {
    "colab": {
      "name": "HyperParameters.ipynb",
      "provenance": [],
      "authorship_tag": "ABX9TyN08yzPRTlmgSJqSvzk6FmN",
      "include_colab_link": true
    },
    "kernelspec": {
      "name": "python3",
      "display_name": "Python 3"
    },
    "language_info": {
      "name": "python"
    }
  },
  "cells": [
    {
      "cell_type": "markdown",
      "metadata": {
        "id": "view-in-github",
        "colab_type": "text"
      },
      "source": [
        "<a href=\"https://colab.research.google.com/github/KhazaeiM/Machine_Learning/blob/main/HyperParameters.ipynb\" target=\"_parent\"><img src=\"https://colab.research.google.com/assets/colab-badge.svg\" alt=\"Open In Colab\"/></a>"
      ]
    },
    {
      "cell_type": "code",
      "metadata": {
        "id": "U01yYpA72GIb"
      },
      "source": [
        "from sklearn.datasets import fetch_california_housing\n",
        "from sklearn.preprocessing import StandardScaler\n",
        "from sklearn.model_selection import GridSearchCV, train_test_split\n",
        "from sklearn.pipeline import Pipeline\n",
        "from sklearn.linear_model import Ridge\n",
        "import numpy as np"
      ],
      "execution_count": 8,
      "outputs": []
    },
    {
      "cell_type": "code",
      "metadata": {
        "colab": {
          "base_uri": "https://localhost:8080/"
        },
        "id": "FxO_k-zB3JB5",
        "outputId": "c266fd4c-0872-4f5c-ca6d-780855de93d5"
      },
      "source": [
        "X = fetch_california_housing()[\"data\"]\n",
        "y = fetch_california_housing()[\"target\"]\n",
        "X_train, X_test, y_train, y_test = train_test_split(X, y, test_size=0.2, random_state=0)"
      ],
      "execution_count": 2,
      "outputs": [
        {
          "output_type": "stream",
          "name": "stderr",
          "text": [
            "Downloading Cal. housing from https://ndownloader.figshare.com/files/5976036 to /root/scikit_learn_data\n"
          ]
        }
      ]
    },
    {
      "cell_type": "code",
      "metadata": {
        "colab": {
          "base_uri": "https://localhost:8080/"
        },
        "id": "uH-pGTVc3ygk",
        "outputId": "0df65db9-18bc-4931-96af-f99c6114e029"
      },
      "source": [
        "pipe =  Pipeline([(\"scaler\", StandardScaler()), (\"regressor\", Ridge())])\n",
        "pipe.fit(X_train, y_train)\n",
        "print(pipe.score(X_test, y_test))"
      ],
      "execution_count": 5,
      "outputs": [
        {
          "output_type": "stream",
          "name": "stdout",
          "text": [
            "0.5943141338604155\n"
          ]
        }
      ]
    },
    {
      "cell_type": "code",
      "metadata": {
        "colab": {
          "base_uri": "https://localhost:8080/"
        },
        "id": "ZjYAd8FI4TNV",
        "outputId": "334474ff-0ded-4322-c808-65112455f452"
      },
      "source": [
        "pipe.get_params()"
      ],
      "execution_count": 7,
      "outputs": [
        {
          "output_type": "execute_result",
          "data": {
            "text/plain": [
              "{'memory': None,\n",
              " 'regressor': Ridge(alpha=1.0, copy_X=True, fit_intercept=True, max_iter=None,\n",
              "       normalize=False, random_state=None, solver='auto', tol=0.001),\n",
              " 'regressor__alpha': 1.0,\n",
              " 'regressor__copy_X': True,\n",
              " 'regressor__fit_intercept': True,\n",
              " 'regressor__max_iter': None,\n",
              " 'regressor__normalize': False,\n",
              " 'regressor__random_state': None,\n",
              " 'regressor__solver': 'auto',\n",
              " 'regressor__tol': 0.001,\n",
              " 'scaler': StandardScaler(copy=True, with_mean=True, with_std=True),\n",
              " 'scaler__copy': True,\n",
              " 'scaler__with_mean': True,\n",
              " 'scaler__with_std': True,\n",
              " 'steps': [('scaler',\n",
              "   StandardScaler(copy=True, with_mean=True, with_std=True)),\n",
              "  ('regressor',\n",
              "   Ridge(alpha=1.0, copy_X=True, fit_intercept=True, max_iter=None,\n",
              "         normalize=False, random_state=None, solver='auto', tol=0.001))],\n",
              " 'verbose': False}"
            ]
          },
          "metadata": {},
          "execution_count": 7
        }
      ]
    },
    {
      "cell_type": "code",
      "metadata": {
        "colab": {
          "base_uri": "https://localhost:8080/"
        },
        "id": "bXSwuSkD4wG8",
        "outputId": "3b6d0ba7-8b14-40c5-d340-a74dc8f851c1"
      },
      "source": [
        "param_grid =  {'regressor__alpha': np.logspace(-3, 3, 20)}\n",
        "grid_search = GridSearchCV(pipe, param_grid, cv=5, n_jobs=2, verbose=1)\n",
        "grid_search.fit(X_train, y_train)"
      ],
      "execution_count": 10,
      "outputs": [
        {
          "output_type": "stream",
          "name": "stdout",
          "text": [
            "Fitting 5 folds for each of 20 candidates, totalling 100 fits\n"
          ]
        },
        {
          "output_type": "stream",
          "name": "stderr",
          "text": [
            "[Parallel(n_jobs=2)]: Using backend LokyBackend with 2 concurrent workers.\n",
            "[Parallel(n_jobs=2)]: Done  90 tasks      | elapsed:    1.4s\n",
            "[Parallel(n_jobs=2)]: Done 100 out of 100 | elapsed:    1.5s finished\n"
          ]
        },
        {
          "output_type": "execute_result",
          "data": {
            "text/plain": [
              "GridSearchCV(cv=5, error_score=nan,\n",
              "             estimator=Pipeline(memory=None,\n",
              "                                steps=[('scaler',\n",
              "                                        StandardScaler(copy=True,\n",
              "                                                       with_mean=True,\n",
              "                                                       with_std=True)),\n",
              "                                       ('regressor',\n",
              "                                        Ridge(alpha=1.0, copy_X=True,\n",
              "                                              fit_intercept=True, max_iter=None,\n",
              "                                              normalize=False,\n",
              "                                              random_state=None, solver='auto',\n",
              "                                              tol=0.001))],\n",
              "                                verbose=False),\n",
              "             iid='deprecated', n_jobs=2,\n",
              "             param_grid={'regressor__alpha': array...3240e-03, 8.85866790e-03,\n",
              "       1.83298071e-02, 3.79269019e-02, 7.84759970e-02, 1.62377674e-01,\n",
              "       3.35981829e-01, 6.95192796e-01, 1.43844989e+00, 2.97635144e+00,\n",
              "       6.15848211e+00, 1.27427499e+01, 2.63665090e+01, 5.45559478e+01,\n",
              "       1.12883789e+02, 2.33572147e+02, 4.83293024e+02, 1.00000000e+03])},\n",
              "             pre_dispatch='2*n_jobs', refit=True, return_train_score=False,\n",
              "             scoring=None, verbose=1)"
            ]
          },
          "metadata": {},
          "execution_count": 10
        }
      ]
    },
    {
      "cell_type": "code",
      "metadata": {
        "colab": {
          "base_uri": "https://localhost:8080/"
        },
        "id": "L_TlkrUG5wku",
        "outputId": "30d3d60c-e74b-4b53-ec52-dfa6feb42e2f"
      },
      "source": [
        "grid_search.best_params_"
      ],
      "execution_count": 11,
      "outputs": [
        {
          "output_type": "execute_result",
          "data": {
            "text/plain": [
              "{'regressor__alpha': 12.742749857031322}"
            ]
          },
          "metadata": {},
          "execution_count": 11
        }
      ]
    },
    {
      "cell_type": "code",
      "metadata": {
        "colab": {
          "base_uri": "https://localhost:8080/"
        },
        "id": "64WuogNj6p3x",
        "outputId": "950855f3-4dd0-4b7b-a07b-a382aa7b81d8"
      },
      "source": [
        "grid_search.best_score_"
      ],
      "execution_count": 12,
      "outputs": [
        {
          "output_type": "execute_result",
          "data": {
            "text/plain": [
              "0.6053953632414377"
            ]
          },
          "metadata": {},
          "execution_count": 12
        }
      ]
    },
    {
      "cell_type": "code",
      "metadata": {
        "id": "ISMCbLkt6usn"
      },
      "source": [
        "from tempfile import mkdtemp\n",
        "from shutil import rmtree\n",
        "\n",
        "cachedir = mkdtemp()\n",
        "pipe_cache = Pipeline([('scaler', StandardScaler()), ('regressor', Ridge())], memory=cachedir)\n",
        "pipe_cache.fit(X_train, y_train)\n",
        "rmtree(cachedir)"
      ],
      "execution_count": 16,
      "outputs": []
    },
    {
      "cell_type": "code",
      "metadata": {
        "colab": {
          "base_uri": "https://localhost:8080/"
        },
        "id": "U07BUajB8F4f",
        "outputId": "efb3e2ec-aa73-493d-809f-6973cfca9f86"
      },
      "source": [
        "param_grid =  {'alpha': np.logspace(-3, 3, 20)}\n",
        "grid_search = GridSearchCV(Ridge(), param_grid, cv=5, n_jobs=2, verbose=1)\n",
        "\n",
        "pipe2  = Pipeline([('scaler', StandardScaler()), ('grid_search', grid_search)])\n",
        "pipe2.fit(X_train, y_train)"
      ],
      "execution_count": 17,
      "outputs": [
        {
          "output_type": "stream",
          "name": "stdout",
          "text": [
            "Fitting 5 folds for each of 20 candidates, totalling 100 fits\n"
          ]
        },
        {
          "output_type": "stream",
          "name": "stderr",
          "text": [
            "[Parallel(n_jobs=2)]: Using backend LokyBackend with 2 concurrent workers.\n",
            "[Parallel(n_jobs=2)]: Done  90 tasks      | elapsed:    1.2s\n",
            "[Parallel(n_jobs=2)]: Done 100 out of 100 | elapsed:    1.2s finished\n"
          ]
        },
        {
          "output_type": "execute_result",
          "data": {
            "text/plain": [
              "Pipeline(memory=None,\n",
              "         steps=[('scaler',\n",
              "                 StandardScaler(copy=True, with_mean=True, with_std=True)),\n",
              "                ('grid_search',\n",
              "                 GridSearchCV(cv=5, error_score=nan,\n",
              "                              estimator=Ridge(alpha=1.0, copy_X=True,\n",
              "                                              fit_intercept=True, max_iter=None,\n",
              "                                              normalize=False,\n",
              "                                              random_state=None, solver='auto',\n",
              "                                              tol=0.001),\n",
              "                              iid='deprecated', n_jobs=2,\n",
              "                              param_grid={'alpha': array([1.00000000e-03, 2.0691380...90e-03,\n",
              "       1.83298071e-02, 3.79269019e-02, 7.84759970e-02, 1.62377674e-01,\n",
              "       3.35981829e-01, 6.95192796e-01, 1.43844989e+00, 2.97635144e+00,\n",
              "       6.15848211e+00, 1.27427499e+01, 2.63665090e+01, 5.45559478e+01,\n",
              "       1.12883789e+02, 2.33572147e+02, 4.83293024e+02, 1.00000000e+03])},\n",
              "                              pre_dispatch='2*n_jobs', refit=True,\n",
              "                              return_train_score=False, scoring=None,\n",
              "                              verbose=1))],\n",
              "         verbose=False)"
            ]
          },
          "metadata": {},
          "execution_count": 17
        }
      ]
    },
    {
      "cell_type": "code",
      "metadata": {
        "colab": {
          "base_uri": "https://localhost:8080/"
        },
        "id": "2phKZ_U37iFf",
        "outputId": "9ea880b1-8ba5-40cc-bbc3-a9689a5f2b5e"
      },
      "source": [
        "pipe2.named_steps['grid_search'].best_params_"
      ],
      "execution_count": 19,
      "outputs": [
        {
          "output_type": "execute_result",
          "data": {
            "text/plain": [
              "{'alpha': 26.366508987303554}"
            ]
          },
          "metadata": {},
          "execution_count": 19
        }
      ]
    },
    {
      "cell_type": "code",
      "metadata": {
        "colab": {
          "base_uri": "https://localhost:8080/"
        },
        "id": "hWBIq3hv8p-k",
        "outputId": "d689b296-d1ed-43fa-9da8-77474c20b227"
      },
      "source": [
        "from sklearn.decomposition import PCA\n",
        "\n",
        "cachedir =  mkdtemp()\n",
        "pipe3 = Pipeline([('scaler', StandardScaler()), ('dim-red', PCA()), ('regressor', Ridge())])\n",
        "param_grid = {'dim-red__n_components':[2, 3, 4, 5, 6],\n",
        "              'regressor__alpha': np.logspace(-3, 3, 20)}\n",
        "grid_search = GridSearchCV(pip3, param_grid, cv=5, n_jobs=2, verbose=1)\n",
        "grid_search.fit(X_train, y_train)\n",
        "rmtree(cachedir)\n"
      ],
      "execution_count": 25,
      "outputs": [
        {
          "output_type": "stream",
          "name": "stdout",
          "text": [
            "Fitting 5 folds for each of 100 candidates, totalling 500 fits\n"
          ]
        },
        {
          "output_type": "stream",
          "name": "stderr",
          "text": [
            "[Parallel(n_jobs=2)]: Using backend LokyBackend with 2 concurrent workers.\n",
            "[Parallel(n_jobs=2)]: Done 300 tasks      | elapsed:    4.9s\n",
            "[Parallel(n_jobs=2)]: Done 500 out of 500 | elapsed:    8.2s finished\n"
          ]
        }
      ]
    },
    {
      "cell_type": "code",
      "metadata": {
        "colab": {
          "base_uri": "https://localhost:8080/"
        },
        "id": "afMrZ1pZ_KDz",
        "outputId": "c0b708cc-c46f-4adf-ed09-5ce3607703a2"
      },
      "source": [
        "grid_search.best_params_"
      ],
      "execution_count": 26,
      "outputs": [
        {
          "output_type": "execute_result",
          "data": {
            "text/plain": [
              "{'dim-red__n_components': 6, 'regressor__alpha': 26.366508987303554}"
            ]
          },
          "metadata": {},
          "execution_count": 26
        }
      ]
    },
    {
      "cell_type": "code",
      "metadata": {
        "colab": {
          "base_uri": "https://localhost:8080/"
        },
        "id": "0lgPC6OB_NRk",
        "outputId": "a187e281-4003-43b8-c6c4-1d7956f354b3"
      },
      "source": [
        "from sklearn.model_selection import RandomizedSearchCV\n",
        "\n",
        "random_search = RandomizedSearchCV(pipe3, param_grid, cv=5, verbose=1, n_jobs=2, n_iter=20)\n",
        "random_search.fit(X_train, y_train)"
      ],
      "execution_count": 28,
      "outputs": [
        {
          "output_type": "stream",
          "name": "stdout",
          "text": [
            "Fitting 5 folds for each of 20 candidates, totalling 100 fits\n"
          ]
        },
        {
          "output_type": "stream",
          "name": "stderr",
          "text": [
            "[Parallel(n_jobs=2)]: Using backend LokyBackend with 2 concurrent workers.\n",
            "[Parallel(n_jobs=2)]: Done 100 out of 100 | elapsed:    1.7s finished\n"
          ]
        },
        {
          "output_type": "execute_result",
          "data": {
            "text/plain": [
              "RandomizedSearchCV(cv=5, error_score=nan,\n",
              "                   estimator=Pipeline(memory=None,\n",
              "                                      steps=[('scaler',\n",
              "                                              StandardScaler(copy=True,\n",
              "                                                             with_mean=True,\n",
              "                                                             with_std=True)),\n",
              "                                             ('dim-red',\n",
              "                                              PCA(copy=True,\n",
              "                                                  iterated_power='auto',\n",
              "                                                  n_components=None,\n",
              "                                                  random_state=None,\n",
              "                                                  svd_solver='auto', tol=0.0,\n",
              "                                                  whiten=False)),\n",
              "                                             ('regressor',\n",
              "                                              Ridge(alpha=1.0, copy_X=True,\n",
              "                                                    fit_intercept=True,\n",
              "                                                    max_iter=None,\n",
              "                                                    normaliz...\n",
              "                                        'regressor__alpha': array([1.00000000e-03, 2.06913808e-03, 4.28133240e-03, 8.85866790e-03,\n",
              "       1.83298071e-02, 3.79269019e-02, 7.84759970e-02, 1.62377674e-01,\n",
              "       3.35981829e-01, 6.95192796e-01, 1.43844989e+00, 2.97635144e+00,\n",
              "       6.15848211e+00, 1.27427499e+01, 2.63665090e+01, 5.45559478e+01,\n",
              "       1.12883789e+02, 2.33572147e+02, 4.83293024e+02, 1.00000000e+03])},\n",
              "                   pre_dispatch='2*n_jobs', random_state=None, refit=True,\n",
              "                   return_train_score=False, scoring=None, verbose=1)"
            ]
          },
          "metadata": {},
          "execution_count": 28
        }
      ]
    },
    {
      "cell_type": "code",
      "metadata": {
        "colab": {
          "base_uri": "https://localhost:8080/"
        },
        "id": "l0b5DE6pAXhd",
        "outputId": "8ae24289-ad15-484a-f1f1-e1ff10ef8c06"
      },
      "source": [
        "from sklearn.model_selection import RandomizedSearchCV\n",
        "\n",
        "cachedir =  mkdtemp()\n",
        "pipe4 = Pipeline([('scaler', StandardScaler()), ('dim-red', PCA()), ('regressor', Ridge())], memory=cachedir)\n",
        "param_grid = {'dim-red__n_components': range(1, 9),\n",
        "              'regressor__alpha': np.logspace(-3, 3, 200)}\n",
        "random_search = RandomizedSearchCV(pipe4, param_grid, cv=5, n_jobs=2, verbose=1, n_iter=100)\n",
        "random_search.fit(X_train, y_train)\n",
        "random_search.score(X_test, y_test)"
      ],
      "execution_count": 32,
      "outputs": [
        {
          "output_type": "stream",
          "name": "stdout",
          "text": [
            "Fitting 5 folds for each of 100 candidates, totalling 500 fits\n"
          ]
        },
        {
          "output_type": "stream",
          "name": "stderr",
          "text": [
            "[Parallel(n_jobs=2)]: Using backend LokyBackend with 2 concurrent workers.\n",
            "[Parallel(n_jobs=2)]: Done 202 tasks      | elapsed:    3.3s\n",
            "[Parallel(n_jobs=2)]: Done 500 out of 500 | elapsed:    6.0s finished\n"
          ]
        },
        {
          "output_type": "execute_result",
          "data": {
            "text/plain": [
              "0.5941891003619316"
            ]
          },
          "metadata": {},
          "execution_count": 32
        }
      ]
    },
    {
      "cell_type": "code",
      "metadata": {
        "id": "8ujJEZ_UBKo6"
      },
      "source": [
        ""
      ],
      "execution_count": null,
      "outputs": []
    }
  ]
}